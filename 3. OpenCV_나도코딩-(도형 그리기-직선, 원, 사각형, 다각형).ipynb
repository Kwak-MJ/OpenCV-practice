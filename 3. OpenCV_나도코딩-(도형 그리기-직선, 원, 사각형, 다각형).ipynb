{
 "cells": [
  {
   "cell_type": "markdown",
   "id": "cfffd8ca",
   "metadata": {},
   "source": [
    "# 3. 도형 그리기"
   ]
  },
  {
   "cell_type": "markdown",
   "id": "36e63839",
   "metadata": {},
   "source": [
    "## 빈 스케치북 만들기"
   ]
  },
  {
   "cell_type": "code",
   "execution_count": 7,
   "id": "1f9f181b",
   "metadata": {},
   "outputs": [],
   "source": [
    "import cv2\n",
    "import numpy as np\n",
    "\n",
    "# 세로 480, 가로 640, 3 channel 스케치북 만들기\n",
    "img = np.zeros((480, 630, 3), dtype = np.uint8)\n",
    "\n",
    "img[:] = 255 # openCV는 BGR 인 것 기억\n",
    "\n",
    "cv2.imshow('img', img)\n",
    "cv2.waitKey(0)\n",
    "cv2.destroyAllWindows()"
   ]
  },
  {
   "cell_type": "markdown",
   "id": "e470c1b6",
   "metadata": {},
   "source": [
    "## 일부 영역 색칠"
   ]
  },
  {
   "cell_type": "code",
   "execution_count": 12,
   "id": "86bd2121",
   "metadata": {},
   "outputs": [],
   "source": [
    "import cv2\n",
    "import numpy as np\n",
    "\n",
    "img = np.zeros((480, 630, 3), dtype = np.uint8)\n",
    "\n",
    "img[100:200, 200:300] = (255,255,255) # openCV는 BGR 인 것 기억\n",
    "\n",
    "cv2.imshow('img', img)\n",
    "cv2.waitKey(0)\n",
    "cv2.destroyAllWindows()"
   ]
  },
  {
   "cell_type": "markdown",
   "id": "fbb8940f",
   "metadata": {},
   "source": [
    "## 직선 cv2.line()\n",
    "(이미지 배경, 시작 점, 끝 점, 색상, 두께, 선 종류)\n",
    "\n",
    "직선의 종류 (line type)\n",
    "\n",
    "1. cv2.LINE_4 : 상하좌우 4방향으로 연결된 선\n",
    "2. cv2.LINE_8 : 대각선을 포함한 8 방향으로 연결된 선 (기본값)\n",
    "3. cv2.LINE_AA : 부드러운 선 (anti-aliasing)"
   ]
  },
  {
   "cell_type": "code",
   "execution_count": 19,
   "id": "50c15f2f",
   "metadata": {},
   "outputs": [],
   "source": [
    "import cv2\n",
    "import numpy as np\n",
    "\n",
    "img = np.zeros((480, 640, 3), dtype=np.uint8)\n",
    "YELLOW = (0, 255, 255) # yellow\n",
    "RED = (0, 0, 255)\n",
    "BLUE = (255, 0, 0)\n",
    "THICKNESS = 3\n",
    "\n",
    "# cv2.line\n",
    "cv2.line(img, (50, 100), (400, 50), RED, THICKNESS, cv2.LINE_4)\n",
    "cv2.line(img, (50, 200), (400, 50), BLUE, THICKNESS, cv2.LINE_8)\n",
    "cv2.line(img, (50, 300), (400, 50), YELLOW, THICKNESS, cv2.LINE_AA)\n",
    "\n",
    "cv2.imshow('line img', img)\n",
    "cv2.waitKey(0)\n",
    "cv2.destroyAllWindows()"
   ]
  },
  {
   "cell_type": "markdown",
   "id": "eb21b752",
   "metadata": {},
   "source": [
    "## 원 cv2.circle()\n",
    "(배경 이미지, 중심점, 반지름, 색상, 두께, 선 종류)\n",
    "\n",
    "두께 -> cv2.FILLED (채워진 원 나옴)"
   ]
  },
  {
   "cell_type": "code",
   "execution_count": 22,
   "id": "8b244583",
   "metadata": {},
   "outputs": [],
   "source": [
    "import cv2\n",
    "import numpy as np\n",
    "\n",
    "img = np.zeros((480, 640, 3), dtype=np.uint8)\n",
    "\n",
    "COLOR = (255, 255, 0)\n",
    "RADIUS = 50\n",
    "THICKNESS = 3\n",
    "\n",
    "cv2.circle(img, (200,200), RADIUS, COLOR, THICKNESS, cv2.LINE_AA) # 속이 빈 원\n",
    "cv2.circle(img, (300,400), RADIUS, COLOR, cv2.FILLED, cv2.LINE_AA) # 속이 빈 원\n",
    "\n",
    "cv2.imshow('img circle', img)\n",
    "cv2.waitKey(0)\n",
    "cv2.destroyAllWindows()"
   ]
  },
  {
   "cell_type": "markdown",
   "id": "d7989803",
   "metadata": {},
   "source": [
    "## 사각형 cv2.rectangle()\n",
    "(이미지 배경, 왼쪽 위 좌표, 오른쪽 아래 좌표, 색상, 두께, 선 종류)\n",
    "\n",
    "마찬가지로 \n",
    "두께 -> cv2.FILLED 로 색상 채우기 가능"
   ]
  },
  {
   "cell_type": "code",
   "execution_count": 28,
   "id": "c808f7a7",
   "metadata": {},
   "outputs": [],
   "source": [
    "import cv2\n",
    "import numpy as np\n",
    "\n",
    "img = np.zeros((480, 640, 3), dtype=np.uint8)\n",
    "\n",
    "COLOR = (0, 255, 255)\n",
    "THICKNESS = 3\n",
    "\n",
    "cv2.rectangle(img, (50,50), (100, 150), COLOR, THICKNESS, cv2.LINE_AA)\n",
    "cv2.rectangle(img, (200,200), (400, 300), COLOR, cv2.FILLED, cv2.LINE_AA)\n",
    "\n",
    "cv2.imshow('img rectangle', img)\n",
    "cv2.waitKey(0)\n",
    "cv2.destroyAllWindows()"
   ]
  },
  {
   "cell_type": "markdown",
   "id": "eba3f55e",
   "metadata": {},
   "source": [
    "## 다각형 cv2.polylines()\n",
    "(이미지 배경, [pts1, pts2, ...], 열림/닫힘 여부, 색상, 두께, 선 종류)\n",
    "\n",
    "특징:\n",
    "pts 리스트에는 여러 점의 array가 들어갈 수 있음\n",
    "열림 닫힘으로 연결 비연결 정의 가능\n",
    "\n",
    "cv2.FILLED 로는 채우기 안됨!!\n",
    "cv2.fillPoly() 사용"
   ]
  },
  {
   "cell_type": "code",
   "execution_count": 49,
   "id": "7027e667",
   "metadata": {},
   "outputs": [],
   "source": [
    "import cv2\n",
    "import numpy as np\n",
    "\n",
    "img = np.zeros((480, 640, 3), dtype=np.uint8)\n",
    "\n",
    "COLOR = (0, 0, 255)\n",
    "\n",
    "THICKNESS = 3\n",
    "\n",
    "pts1 = np.array([[100, 10], [200, 200], [150, 200]])\n",
    "pts2 = np.array([[250, 50], [400, 100], [330, 150]])\n",
    "\n",
    "cv2.polylines(img, [pts1, pts2], True, COLOR, THICKNESS, cv2.LINE_AA) # 열림 -> 첫 점, 끝 점 연결함\n",
    "\n",
    "\n",
    "cv2.fillPoly(img, [pts1+ 100, pts2 + 100], COLOR, cv2.LINE_AA)\n",
    "\n",
    "cv2.imshow('img rectangle', img)\n",
    "cv2.waitKey(0)\n",
    "cv2.destroyAllWindows()"
   ]
  }
 ],
 "metadata": {
  "kernelspec": {
   "display_name": "Python 3 (ipykernel)",
   "language": "python",
   "name": "python3"
  },
  "language_info": {
   "codemirror_mode": {
    "name": "ipython",
    "version": 3
   },
   "file_extension": ".py",
   "mimetype": "text/x-python",
   "name": "python",
   "nbconvert_exporter": "python",
   "pygments_lexer": "ipython3",
   "version": "3.11.5"
  }
 },
 "nbformat": 4,
 "nbformat_minor": 5
}
