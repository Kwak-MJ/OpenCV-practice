{
 "cells": [
  {
   "cell_type": "markdown",
   "id": "505616a4",
   "metadata": {},
   "source": [
    "# 17. 경계선 검출"
   ]
  },
  {
   "cell_type": "markdown",
   "id": "f74f8012",
   "metadata": {},
   "source": [
    "### Canny Edge Detection"
   ]
  },
  {
   "cell_type": "code",
   "execution_count": 2,
   "id": "89bee834",
   "metadata": {},
   "outputs": [],
   "source": [
    "import cv2\n",
    "\n",
    "def empty(pos):\n",
    "    pass\n",
    "\n",
    "img = cv2.imread('book.jpg', cv2.IMREAD_GRAYSCALE)\n",
    "\n",
    "name = \"Track\"\n",
    "cv2.namedWindow(name)\n",
    "\n",
    "cv2.createTrackbar(\"block_size\", name, 25, 200, empty) # 1보다 큰 홀수\n",
    "cv2.createTrackbar(\"c\", name, 0, 20, empty) # 양수\n",
    "\n",
    "while True:\n",
    "    block_size = cv2.getTrackbarPos(\"block_size\", name)\n",
    "    c = cv2.getTrackbarPos(\"c\", name)\n",
    "    \n",
    "    if block_size == 0 or block_size == 1:\n",
    "        block_size = 3\n",
    "    \n",
    "    if block_size % 2 == 0:\n",
    "        block_size += 1\n",
    "    \n",
    "    binary = cv2.adaptiveThreshold(img, 255, cv2.ADAPTIVE_THRESH_MEAN_C, cv2.THRESH_BINARY, block_size, c)\n",
    "\n",
    "    cv2.imshow(name, binary)\n",
    "    if cv2.waitKey(1) == ord('q'):\n",
    "        break\n",
    "        \n",
    "cv2.destroyAllWindows()"
   ]
  },
  {
   "cell_type": "code",
   "execution_count": 5,
   "id": "22f0c5b8",
   "metadata": {},
   "outputs": [],
   "source": [
    "import cv2\n",
    "\n",
    "def empty(pos):\n",
    "    pass\n",
    "\n",
    "name = \"Trackbar\"\n",
    "cv2.namedWindow(name)\n",
    "cv2.createTrackbar(\"Low\", name, 0, 255, empty)\n",
    "cv2.createTrackbar(\"Hight\", name, 0, 255, empty)\n",
    "\n",
    "while True:\n",
    "    low = cv2.getTrackbarPos(\"Low\", name)\n",
    "    high = cv2.getTrackbarPos(\"Hight\", name)\n",
    "    \n",
    "    img = cv2.imread('book.jpg', cv2.IMREAD_GRAYSCALE)\n",
    "    canny = cv2.Canny(img, low, high)\n",
    "\n",
    "    cv2.imshow(name, canny)\n",
    "    if cv2.waitKey(1) == ord('q'):\n",
    "        break\n",
    "    \n",
    "cv2.destroyAllWindows()"
   ]
  },
  {
   "cell_type": "code",
   "execution_count": null,
   "id": "450d6157",
   "metadata": {},
   "outputs": [],
   "source": []
  }
 ],
 "metadata": {
  "kernelspec": {
   "display_name": "Python 3 (ipykernel)",
   "language": "python",
   "name": "python3"
  },
  "language_info": {
   "codemirror_mode": {
    "name": "ipython",
    "version": 3
   },
   "file_extension": ".py",
   "mimetype": "text/x-python",
   "name": "python",
   "nbconvert_exporter": "python",
   "pygments_lexer": "ipython3",
   "version": "3.11.5"
  }
 },
 "nbformat": 4,
 "nbformat_minor": 5
}
