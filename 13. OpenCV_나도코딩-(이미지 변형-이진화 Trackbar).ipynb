{
 "cells": [
  {
   "cell_type": "markdown",
   "id": "30e3acfb",
   "metadata": {},
   "source": [
    "# 13. 이미지 변형 (이진화) "
   ]
  },
  {
   "cell_type": "markdown",
   "id": "0ad6e8e4",
   "metadata": {},
   "source": [
    "## Threshold\n",
    "ret, binary = cv2.threshold(img, 임계값, 클때, flag)\n",
    "ret 값에는 임계값이 들어감!"
   ]
  },
  {
   "cell_type": "markdown",
   "id": "61b26ab1",
   "metadata": {},
   "source": [
    "이진화 위해서는 grayscale로 읽기, \n",
    "threshold 적용"
   ]
  },
  {
   "cell_type": "code",
   "execution_count": 6,
   "id": "b76a870b",
   "metadata": {},
   "outputs": [],
   "source": [
    "import cv2\n",
    "\n",
    "img = cv2.imread('book.jpg', cv2.IMREAD_GRAYSCALE)\n",
    "\n",
    "ret, binary = cv2.threshold(img, 127, 255, cv2.THRESH_BINARY)\n",
    "\n",
    "cv2.imshow('img', img)\n",
    "cv2.imshow('threshold', binary)\n",
    "cv2.waitKey(0)\n",
    "cv2.destroyAllWindows()\n"
   ]
  },
  {
   "cell_type": "markdown",
   "id": "d730fb94",
   "metadata": {},
   "source": [
    "### *Trackbar* (값 변화에 따른 변형 확인) - 영상과 비슷하게 렌더링\n",
    "cv2.namedWindow(창 이름)\n",
    "cv2.createTrackbar(트랙바 이름, 창 이름(창은 미리 설정), 초기값, 최대값, 콜백함수)\n",
    "cv2.getTrackbarPos(트랙바 이름, 창 이름)"
   ]
  },
  {
   "cell_type": "code",
   "execution_count": 2,
   "id": "96f06b0b",
   "metadata": {},
   "outputs": [],
   "source": [
    "import cv2\n",
    "\n",
    "def empty(pos):\n",
    "    pass\n",
    "\n",
    "img = cv2.imread('book.jpg', cv2.IMREAD_GRAYSCALE)\n",
    "\n",
    "cv2.namedWindow('Trackbar')\n",
    "cv2.createTrackbar('threshold', 'Trackbar', 127, 255, empty)\n",
    "\n",
    "while True:\n",
    "    thresh = cv2.getTrackbarPos('threshold', 'Trackbar')\n",
    "    ret, binary = cv2.threshold(img, thresh, 255, cv2.THRESH_BINARY)\n",
    "    \n",
    "    if not ret:\n",
    "        break\n",
    "    \n",
    "    cv2.imshow('Trackbar', binary)\n",
    "    \n",
    "    if cv2.waitKey(1) == ord('q'):\n",
    "        break\n",
    "\n",
    "cv2.destroyAllWindows()"
   ]
  },
  {
   "cell_type": "markdown",
   "id": "1ce61e12",
   "metadata": {},
   "source": [
    "## Adaptive Threshold\n",
    "영역을 세분화해서 적절하게 임계치 적용해줌 (빛 반사 심할 때 등등)\n",
    "\n",
    "binary = cv2.adaptiveThreshold(img, 임계보다 클 때, cv2.ADAPTIVE_THRESH_MEAN_C, cv2.THRESH_BINARY, block_size, c)\n",
    "\n",
    "1. block_size : 1보다 큰 홀수만 가능\n",
    "1. c  : 일반적으로 양수\n",
    "\n",
    "변수 이용"
   ]
  },
  {
   "cell_type": "code",
   "execution_count": 1,
   "id": "c19ef581",
   "metadata": {},
   "outputs": [],
   "source": [
    "import cv2\n",
    "\n",
    "def empty(pos):\n",
    "    pass\n",
    "\n",
    "img = cv2.imread('book.jpg', cv2.IMREAD_GRAYSCALE)\n",
    "\n",
    "cv2.namedWindow('Trackbar')\n",
    "\n",
    "cv2.createTrackbar('block_size', 'Trackbar', 25, 100, empty)\n",
    "cv2.createTrackbar('c', 'Trackbar', 3, 10, empty)\n",
    "\n",
    "# 트랙 바의 움직임에 따라서 화면 랜더링\n",
    "while True:\n",
    "    block_size = cv2.getTrackbarPos('block_size', 'Trackbar')\n",
    "    c = cv2.getTrackbarPos('c', 'Trackbar')\n",
    "\n",
    "    if block_size <= 1:\n",
    "        block_size = 3\n",
    "\n",
    "    if block_size % 2 == 0:\n",
    "        block_size += 1\n",
    "    \n",
    "    binary = cv2.adaptiveThreshold(img, 255, cv2.ADAPTIVE_THRESH_MEAN_C, cv2.THRESH_BINARY, block_size, c)\n",
    "    \n",
    "    cv2.imshow('Trackbar', binary)\n",
    "    \n",
    "    if cv2.waitKey(1) == ord('q'):\n",
    "        break\n",
    "    \n",
    "cv2.destroyAllWindows()"
   ]
  },
  {
   "cell_type": "markdown",
   "id": "f7a5e031",
   "metadata": {},
   "source": [
    "## 오츠 알고리즘\n",
    "ret, otsu = cv2.threshold(img, 임계값(자동 설정), 넘어서면, cv2.THRESH_BINARY | cv2.THRESH_OTSU)"
   ]
  },
  {
   "cell_type": "markdown",
   "id": "cfadc333",
   "metadata": {},
   "source": [
    "모든 곳에서 최적은 아님.\n",
    "\n",
    "Bimodal Image? 에서는 최적\n",
    "\n",
    "히스토그램에서 두개의 피크를 가지는 경우"
   ]
  },
  {
   "cell_type": "code",
   "execution_count": 2,
   "id": "be1506b7",
   "metadata": {},
   "outputs": [],
   "source": [
    "import cv2\n",
    "\n",
    "img = cv2.imread('book.jpg', cv2.IMREAD_GRAYSCALE)\n",
    "\n",
    "ret, binary = cv2.threshold(img, 127, 255, cv2.THRESH_BINARY)\n",
    "ret, otsu = cv2.threshold(img, -1, 255, cv2.THRESH_BINARY | cv2.THRESH_OTSU)\n",
    "\n",
    "cv2.imshow('original threshold', binary)\n",
    "cv2.imshow('otsu threshold', otsu)\n",
    "\n",
    "cv2.waitKey(0)\n",
    "cv2.destroyAllWindows()"
   ]
  }
 ],
 "metadata": {
  "kernelspec": {
   "display_name": "Python 3 (ipykernel)",
   "language": "python",
   "name": "python3"
  },
  "language_info": {
   "codemirror_mode": {
    "name": "ipython",
    "version": 3
   },
   "file_extension": ".py",
   "mimetype": "text/x-python",
   "name": "python",
   "nbconvert_exporter": "python",
   "pygments_lexer": "ipython3",
   "version": "3.11.5"
  }
 },
 "nbformat": 4,
 "nbformat_minor": 5
}
