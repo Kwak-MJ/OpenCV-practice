{
 "cells": [
  {
   "cell_type": "markdown",
   "id": "e5db62fc",
   "metadata": {},
   "source": [
    "# 14. 이미지 변환 (팽창)"
   ]
  },
  {
   "cell_type": "markdown",
   "id": "d01829b6",
   "metadata": {},
   "source": [
    "### 이미지를 확장하여 구멍 채우기"
   ]
  },
  {
   "cell_type": "code",
   "execution_count": 13,
   "id": "780dc684",
   "metadata": {},
   "outputs": [],
   "source": [
    "import cv2\n",
    "import numpy as np\n",
    "\n",
    "img = cv2.imread('dilation.jpg')\n",
    "\n",
    "kernel = np.ones((3,3), dtype = np.uint8)\n",
    "\n",
    "\n",
    "dst3 = cv2.dilate(img, kernel, iterations=3)\n",
    "\n",
    "cv2.imshow('img', img)\n",
    "cv2.imshow('dst3', dst3)\n",
    "cv2.waitKey(0)\n",
    "cv2.destroyAllWindows()"
   ]
  },
  {
   "cell_type": "code",
   "execution_count": null,
   "id": "2fb49b63",
   "metadata": {},
   "outputs": [],
   "source": []
  }
 ],
 "metadata": {
  "kernelspec": {
   "display_name": "Python 3 (ipykernel)",
   "language": "python",
   "name": "python3"
  },
  "language_info": {
   "codemirror_mode": {
    "name": "ipython",
    "version": 3
   },
   "file_extension": ".py",
   "mimetype": "text/x-python",
   "name": "python",
   "nbconvert_exporter": "python",
   "pygments_lexer": "ipython3",
   "version": "3.11.5"
  }
 },
 "nbformat": 4,
 "nbformat_minor": 5
}
