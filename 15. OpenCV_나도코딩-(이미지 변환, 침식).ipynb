{
 "cells": [
  {
   "cell_type": "markdown",
   "id": "79d9b236",
   "metadata": {},
   "source": [
    "# 15. 이미지 변환, 침식"
   ]
  },
  {
   "cell_type": "code",
   "execution_count": 15,
   "id": "a55f6886",
   "metadata": {},
   "outputs": [],
   "source": [
    "import cv2\n",
    "import numpy as np\n",
    "\n",
    "kernel = np.ones((3,3), dtype=np.uint8)\n",
    "\n",
    "img = cv2.imread('erode.jpg')\n",
    "\n",
    "dst1 = cv2.erode(img, kernel, iterations=3)\n",
    "\n",
    "cv2.imshow('img', img)\n",
    "cv2.imshow('dst1', dst1)\n",
    "cv2.waitKey(0)\n",
    "cv2.destroyAllWindows()"
   ]
  }
 ],
 "metadata": {
  "kernelspec": {
   "display_name": "Python 3 (ipykernel)",
   "language": "python",
   "name": "python3"
  },
  "language_info": {
   "codemirror_mode": {
    "name": "ipython",
    "version": 3
   },
   "file_extension": ".py",
   "mimetype": "text/x-python",
   "name": "python",
   "nbconvert_exporter": "python",
   "pygments_lexer": "ipython3",
   "version": "3.11.5"
  }
 },
 "nbformat": 4,
 "nbformat_minor": 5
}
