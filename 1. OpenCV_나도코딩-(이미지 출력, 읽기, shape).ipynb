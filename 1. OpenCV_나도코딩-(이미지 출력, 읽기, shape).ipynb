{
 "cells": [
  {
   "cell_type": "code",
   "execution_count": 1,
   "id": "f88585ca",
   "metadata": {},
   "outputs": [
    {
     "data": {
      "text/plain": [
       "'4.9.0'"
      ]
     },
     "execution_count": 1,
     "metadata": {},
     "output_type": "execute_result"
    }
   ],
   "source": [
    "import cv2\n",
    "cv2.__version__"
   ]
  },
  {
   "cell_type": "markdown",
   "id": "51695f7f",
   "metadata": {},
   "source": [
    "# 1. 이미지 출력하기"
   ]
  },
  {
   "cell_type": "code",
   "execution_count": 2,
   "id": "20fb29dc",
   "metadata": {},
   "outputs": [],
   "source": [
    "img = cv2.imread('img.jpg', cv2.IMREAD_UNCHANGED)\n",
    "\n",
    "cv2.imshow('img',img)\n",
    "\n",
    "key = cv2.waitKey(0) # 입력 있을때까지 기다리기\n",
    "\n",
    "while key != ord('q'):\n",
    "    key = cv2.waitKey(0)\n",
    "\n",
    "cv2.destroyAllWindows()"
   ]
  },
  {
   "cell_type": "markdown",
   "id": "494e9631",
   "metadata": {},
   "source": [
    "# 2. 읽기 옵션\n",
    "cv2.IMREAD_COLOR\n",
    "cv2.IMREAD_GRAYSCALE\n",
    "cv2.IMREAD_UNCAHNGED"
   ]
  },
  {
   "cell_type": "code",
   "execution_count": 1,
   "id": "430f259e",
   "metadata": {},
   "outputs": [],
   "source": [
    "import cv2\n",
    "\n",
    "img1 = cv2.imread('img.jpg', cv2.IMREAD_COLOR)\n",
    "img2 = cv2.imread('img.jpg', cv2.IMREAD_GRAYSCALE)\n",
    "img3 = cv2.imread('img.jpg', cv2.IMREAD_UNCHANGED)\n",
    "\n",
    "cv2.imshow('img_color', img1)\n",
    "cv2.imshow('img_gray', img2)\n",
    "cv2.imshow('img_unchanged', img3)\n",
    "\n",
    "cv2.waitKey(0)\n",
    "cv2.destroyAllWindows()"
   ]
  },
  {
   "cell_type": "markdown",
   "id": "ef20178d",
   "metadata": {},
   "source": [
    "# 3. Shape (이미지의 정보)"
   ]
  },
  {
   "cell_type": "code",
   "execution_count": 3,
   "id": "4c9380dd",
   "metadata": {},
   "outputs": [
    {
     "name": "stdout",
     "output_type": "stream",
     "text": [
      "(427, 640, 3)\n"
     ]
    }
   ],
   "source": [
    "import cv2\n",
    "img = cv2.imread('img.jpg', cv2.IMREAD_UNCHANGED)\n",
    "print(img.shape)"
   ]
  }
 ],
 "metadata": {
  "kernelspec": {
   "display_name": "Python 3 (ipykernel)",
   "language": "python",
   "name": "python3"
  },
  "language_info": {
   "codemirror_mode": {
    "name": "ipython",
    "version": 3
   },
   "file_extension": ".py",
   "mimetype": "text/x-python",
   "name": "python",
   "nbconvert_exporter": "python",
   "pygments_lexer": "ipython3",
   "version": "3.11.5"
  }
 },
 "nbformat": 4,
 "nbformat_minor": 5
}
