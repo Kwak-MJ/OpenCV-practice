{
 "cells": [
  {
   "cell_type": "markdown",
   "id": "e9fa5a72",
   "metadata": {},
   "source": [
    "# 5. 파일 저장"
   ]
  },
  {
   "cell_type": "markdown",
   "id": "aeebd9e1",
   "metadata": {},
   "source": [
    "## 이미지 저장 cv2.imwrite()\n",
    "(저장 이름, 이미지 배열)"
   ]
  },
  {
   "cell_type": "markdown",
   "id": "c3ba665b",
   "metadata": {},
   "source": [
    "### 저장 포맷 바꾸기 가능 (jpg, png...)"
   ]
  },
  {
   "cell_type": "code",
   "execution_count": 4,
   "id": "2f296db8",
   "metadata": {},
   "outputs": [
    {
     "name": "stdout",
     "output_type": "stream",
     "text": [
      "True\n"
     ]
    }
   ],
   "source": [
    "import cv2\n",
    "\n",
    "img = cv2.imread('./img.jpg', cv2.IMREAD_GRAYSCALE)\n",
    "\n",
    "result = cv2.imwrite('img_grayscale.png', img)\n",
    "print(result)"
   ]
  },
  {
   "cell_type": "markdown",
   "id": "c4625823",
   "metadata": {},
   "source": [
    "## 동영상 저장 cv2.VideoWriter()\n",
    "(저장 이름, 정의한 코덱, fps, (너비, 높이))"
   ]
  },
  {
   "cell_type": "code",
   "execution_count": 1,
   "id": "27ce3f5c",
   "metadata": {},
   "outputs": [],
   "source": [
    "import cv2\n",
    "\n",
    "cap = cv2.VideoCapture('./video.mp4')\n",
    "\n",
    "# 코덱 정의\n",
    "fourcc = cv2.VideoWriter_fourcc(*'DIVX')\n",
    "\n",
    "width = round(cap.get(cv2.CAP_PROP_FRAME_WIDTH))\n",
    "height = round(cap.get(cv2.CAP_PROP_FRAME_HEIGHT))\n",
    "fps = cap.get(cv2.CAP_PROP_FPS)\n",
    "\n",
    "out = cv2.VideoWriter('output.avi', fourcc, fps, (width, height))\n",
    "\n",
    "\n",
    "while cap.isOpened():\n",
    "    ret, frame = cap.read()\n",
    "    \n",
    "    if not ret:\n",
    "        break\n",
    "    \n",
    "    out.write(frame) # 소리X (영상만)\n",
    "    cv2.imshow('video show', frame)\n",
    "    \n",
    "    if cv2.waitKey(25) == ord('q'):\n",
    "        break\n",
    "\n",
    "cap.release()\n",
    "out.release()\n",
    "cv2.destroyAllWindows()        "
   ]
  }
 ],
 "metadata": {
  "kernelspec": {
   "display_name": "Python 3 (ipykernel)",
   "language": "python",
   "name": "python3"
  },
  "language_info": {
   "codemirror_mode": {
    "name": "ipython",
    "version": 3
   },
   "file_extension": ".py",
   "mimetype": "text/x-python",
   "name": "python",
   "nbconvert_exporter": "python",
   "pygments_lexer": "ipython3",
   "version": "3.11.5"
  }
 },
 "nbformat": 4,
 "nbformat_minor": 5
}
