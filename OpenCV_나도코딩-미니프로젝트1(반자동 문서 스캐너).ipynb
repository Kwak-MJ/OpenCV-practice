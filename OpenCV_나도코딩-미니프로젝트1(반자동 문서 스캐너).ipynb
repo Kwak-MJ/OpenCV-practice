{
 "cells": [
  {
   "cell_type": "markdown",
   "id": "ec17ef02",
   "metadata": {},
   "source": [
    "# 미니 프로젝트 : 반자동 문서 스캐너"
   ]
  },
  {
   "cell_type": "markdown",
   "id": "fd55aa9a",
   "metadata": {},
   "source": [
    "### 마우스 이벤트 등록 cv2.setMouseCallback()"
   ]
  },
  {
   "cell_type": "code",
   "execution_count": 4,
   "id": "4eb1af78",
   "metadata": {},
   "outputs": [
    {
     "name": "stdout",
     "output_type": "stream",
     "text": [
      "704 148\n",
      "704 148\n",
      "1130 415\n",
      "1171 529\n"
     ]
    }
   ],
   "source": [
    "import cv2\n",
    "\n",
    "def mouse_handler(event, x, y, flags, param):\n",
    "    if event == cv2.EVENT_LBUTTONDOWN:\n",
    "        print(x,y)\n",
    "    elif event == cv2.EVENT_LBUTTONUP:\n",
    "        print(x,y)\n",
    "\n",
    "img = cv2.imread('poker.jpg')\n",
    "\n",
    "cv2.namedWindow('img') # img란 윈도우 창 미리 만듬, 여기에 마우스 이벤트 핸들러\n",
    "cv2.setMouseCallback('img', mouse_handler) # 함수 받음\n",
    "\n",
    "cv2.imshow('img', img) # 아까 handler 적용한 창 이용\n",
    "cv2.waitKey(0)\n",
    "cv2.destroyAllWindows()"
   ]
  },
  {
   "cell_type": "markdown",
   "id": "a87d0864",
   "metadata": {},
   "source": [
    "### 프로젝트"
   ]
  },
  {
   "cell_type": "code",
   "execution_count": 2,
   "id": "a99e3e79",
   "metadata": {},
   "outputs": [],
   "source": [
    "# 화면에서 직접 마우스를 클릭하여,\n",
    "# transform 영역 지정하도록 만들기\n",
    "import cv2\n",
    "import numpy as np   \n",
    "\n",
    "poker = cv2.imread('poker.jpg')\n",
    "point_list = []\n",
    "\n",
    "# 클릭 한 순간부터 시작하게 만들기\n",
    "drawing = False\n",
    "COLOR = (0, 255, 0)\n",
    "\n",
    "def show_transform(img, point_list):\n",
    "    WIDTH = 530\n",
    "    HEIGHT = 710\n",
    "    \n",
    "    pts = np.array(point_list, dtype=np.float32)\n",
    "    dst = np.array([[0,0], [WIDTH, 0], [WIDTH, HEIGHT], [0, HEIGHT]], dtype=np.float32)\n",
    "    \n",
    "    matrix = cv2.getPerspectiveTransform(pts, dst)\n",
    "    result = cv2.warpPerspective(img, matrix, (WIDTH, HEIGHT))\n",
    "    cv2.imshow('transform', result)\n",
    "\n",
    "def mouse_handler(event, x, y, flags, param):\n",
    "    global drawing\n",
    "    poker_copy = poker.copy() # 실시간 선 번지는 현상 막음\n",
    "    \n",
    "    if event == cv2.EVENT_LBUTTONDOWN:\n",
    "        point_list.append((x,y))\n",
    "        drawing = True\n",
    "    \n",
    "    if drawing:\n",
    "        prev_point = None # 시작점\n",
    "        for pos in point_list:\n",
    "            cv2.circle(poker_copy, pos, 10, COLOR, cv2.FILLED)\n",
    "            \n",
    "            if prev_point:\n",
    "                cv2.line(poker_copy, prev_point, pos, COLOR, 4, cv2.LINE_AA)\n",
    "            prev_point = pos\n",
    "            \n",
    "        cv2.line(poker_copy, prev_point, (x,y), COLOR, 4, cv2.LINE_AA)\n",
    "    \n",
    "        if len(point_list) == 4:\n",
    "            cv2.line(poker_copy, point_list[-1], point_list[0], COLOR, 4, cv2.LINE_AA)\n",
    "            show_transform(poker, point_list)\n",
    "    \n",
    "    cv2.imshow('img', poker_copy)\n",
    "            \n",
    "    \n",
    "    \n",
    "\n",
    "cv2.namedWindow('img')\n",
    "cv2.setMouseCallback('img', mouse_handler)\n",
    "\n",
    "cv2.imshow('img', poker)\n",
    "cv2.waitKey(0)\n",
    "cv2.destroyAllWindows()"
   ]
  }
 ],
 "metadata": {
  "kernelspec": {
   "display_name": "Python 3 (ipykernel)",
   "language": "python",
   "name": "python3"
  },
  "language_info": {
   "codemirror_mode": {
    "name": "ipython",
    "version": 3
   },
   "file_extension": ".py",
   "mimetype": "text/x-python",
   "name": "python",
   "nbconvert_exporter": "python",
   "pygments_lexer": "ipython3",
   "version": "3.11.5"
  }
 },
 "nbformat": 4,
 "nbformat_minor": 5
}
