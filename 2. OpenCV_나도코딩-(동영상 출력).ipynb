{
 "cells": [
  {
   "cell_type": "markdown",
   "id": "489e5737",
   "metadata": {},
   "source": [
    "# 1. 동영상 출력"
   ]
  },
  {
   "cell_type": "markdown",
   "id": "71aabe03",
   "metadata": {},
   "source": [
    "## 동영상 파일 출력"
   ]
  },
  {
   "cell_type": "code",
   "execution_count": 4,
   "id": "b5f233ca",
   "metadata": {},
   "outputs": [
    {
     "name": "stdout",
     "output_type": "stream",
     "text": [
      "더 이상 보여줄 이미지가 없습니다.\n"
     ]
    }
   ],
   "source": [
    "import cv2\n",
    "cap = cv2.VideoCapture('video.mp4')\n",
    "\n",
    "while cap.isOpened(): # 동영상 파일이 올바르게 열렸는지\n",
    "    ret, frame = cap.read() # 받아 왔는지 아닌지, 받아온 이미지(프레임)\n",
    "    \n",
    "    if not ret: # 중요 부분 (비디오 끝까지 갔을 때 필요)\n",
    "        print('더 이상 보여줄 이미지가 없습니다.')\n",
    "        break\n",
    "    \n",
    "    cv2.imshow('my vidieo', frame)\n",
    "    \n",
    "    if cv2.waitKey(25) == ord('q'):\n",
    "        print('사용자 입력에 의해 영상을 종료합니다')\n",
    "        break\n",
    "\n",
    "cap.release() # 영상 자원 해제\n",
    "cv2.destroyAllWindows()"
   ]
  },
  {
   "cell_type": "markdown",
   "id": "456f19e8",
   "metadata": {},
   "source": [
    "## 카메라 영상 출력"
   ]
  },
  {
   "cell_type": "code",
   "execution_count": 3,
   "id": "c6d95c62",
   "metadata": {},
   "outputs": [
    {
     "name": "stdout",
     "output_type": "stream",
     "text": [
      "사용자에 의해 종료합니다.\n"
     ]
    }
   ],
   "source": [
    "import cv2\n",
    "cap = cv2.VideoCapture(0) # 0번째 카메라 장치(device ID)\n",
    "\n",
    "if not cap.isOpened():\n",
    "    exit() # 프로그램 종료\n",
    "\n",
    "while True: # 카메라는 실시간 -> 무한반복\n",
    "    ret, frame = cap.read()\n",
    "    \n",
    "    if not ret:\n",
    "        print('카메라 이미지가 더 이상 존재하지 않습니다.')\n",
    "        break\n",
    "    \n",
    "    cv2.imshow('my camera', frame)\n",
    "    \n",
    "    if cv2.waitKey(1) == ord('q'):\n",
    "        print('사용자에 의해 종료합니다.')\n",
    "        break\n",
    "\n",
    "cap.release() # 자원 해제\n",
    "cv2.destroyAllWindows()"
   ]
  }
 ],
 "metadata": {
  "kernelspec": {
   "display_name": "Python 3 (ipykernel)",
   "language": "python",
   "name": "python3"
  },
  "language_info": {
   "codemirror_mode": {
    "name": "ipython",
    "version": 3
   },
   "file_extension": ".py",
   "mimetype": "text/x-python",
   "name": "python",
   "nbconvert_exporter": "python",
   "pygments_lexer": "ipython3",
   "version": "3.11.5"
  }
 },
 "nbformat": 4,
 "nbformat_minor": 5
}
