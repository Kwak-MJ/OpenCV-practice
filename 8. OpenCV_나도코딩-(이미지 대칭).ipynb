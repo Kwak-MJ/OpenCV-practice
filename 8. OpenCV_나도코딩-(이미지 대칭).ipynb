{
 "cells": [
  {
   "cell_type": "markdown",
   "id": "3d2eb70c",
   "metadata": {},
   "source": [
    "# 8. 이미지 대칭 cv2.flip()\n",
    "1. flipCode > 0 : 좌우대칭\n",
    "1. flipCode == 0 : 상하대칭\n",
    "1. flipCode < 0 : 상하좌우대칭"
   ]
  },
  {
   "cell_type": "markdown",
   "id": "6bad939a",
   "metadata": {},
   "source": [
    "## 좌우 대칭"
   ]
  },
  {
   "cell_type": "code",
   "execution_count": 14,
   "id": "8b2335a0",
   "metadata": {},
   "outputs": [],
   "source": [
    "import cv2\n",
    "\n",
    "img = cv2.imread('img.jpg')\n",
    "flip_hor = cv2.flip(img, 1) # flipCode > 0, 좌우 대칭!\n",
    "\n",
    "cv2.imshow('img', flip_hor)\n",
    "cv2.waitKey(0)\n",
    "cv2.destroyAllWindows()"
   ]
  },
  {
   "cell_type": "markdown",
   "id": "0bc6caf8",
   "metadata": {},
   "source": [
    "## 상하대칭"
   ]
  },
  {
   "cell_type": "code",
   "execution_count": 11,
   "id": "5f368efa",
   "metadata": {},
   "outputs": [],
   "source": [
    "import cv2\n",
    "\n",
    "img = cv2.imread('img.jpg')\n",
    "flip_hor = cv2.flip(img, 0) # flipCode == 0, 상하 대칭!\n",
    "\n",
    "cv2.imshow('img', flip_hor)\n",
    "cv2.waitKey(0)\n",
    "cv2.destroyAllWindows()"
   ]
  },
  {
   "cell_type": "markdown",
   "id": "7846ad6d",
   "metadata": {},
   "source": [
    "## 상하좌우대칭"
   ]
  },
  {
   "cell_type": "code",
   "execution_count": 15,
   "id": "ecf03916",
   "metadata": {},
   "outputs": [],
   "source": [
    "import cv2\n",
    "\n",
    "img = cv2.imread('img.jpg')\n",
    "flip_hor = cv2.flip(img, -1) # flipCode < 0, 상하좌우 대칭!\n",
    "\n",
    "cv2.imshow('img', flip_hor)\n",
    "cv2.waitKey(0)\n",
    "cv2.destroyAllWindows()"
   ]
  }
 ],
 "metadata": {
  "kernelspec": {
   "display_name": "Python 3 (ipykernel)",
   "language": "python",
   "name": "python3"
  },
  "language_info": {
   "codemirror_mode": {
    "name": "ipython",
    "version": 3
   },
   "file_extension": ".py",
   "mimetype": "text/x-python",
   "name": "python",
   "nbconvert_exporter": "python",
   "pygments_lexer": "ipython3",
   "version": "3.11.5"
  }
 },
 "nbformat": 4,
 "nbformat_minor": 5
}
