{
 "cells": [
  {
   "cell_type": "markdown",
   "id": "9609349f",
   "metadata": {},
   "source": [
    "# 4. 텍스트"
   ]
  },
  {
   "cell_type": "markdown",
   "id": "ef7a663d",
   "metadata": {},
   "source": [
    "## OpenCV 에서 사용하는 글꼴 종류\n",
    "1. cv2.FONT_HERSHEY_SIMPLEX : 보통 크기의 산 세리프(san-serif) 글꼴\n",
    "2. cv2.FONT_HERSHEY_PLAIN : 작은 크기의 산 세리프 글꼴\n",
    "3. cv2.FONT_HERSHEY_SCRIPT_SIMPLEX : 필기체 스타일 글꼴\n",
    "4. cv2.FONT_HERSHEY_TRIPLEX : 보통 크기의 세리프 글꼴\n",
    "\n",
    "5. cv2.FONT_ITALIC : 기울임 (이탤릭) 다른폰트와 함께 사용"
   ]
  },
  {
   "cell_type": "markdown",
   "id": "f308fdaf",
   "metadata": {},
   "source": [
    "## cv2.putText()\n",
    "(배경 이미지, 입력 텍스트, 좌표 위치, 글꼴, 크기, 색상, 두께)"
   ]
  },
  {
   "cell_type": "code",
   "execution_count": 12,
   "id": "4c8c20ee",
   "metadata": {},
   "outputs": [],
   "source": [
    "import cv2\n",
    "import numpy as np\n",
    "\n",
    "bg = np.zeros((480, 640, 3), dtype = np.uint8)\n",
    "\n",
    "WHITE = (255,255,255)\n",
    "THICK = 1\n",
    "SCALE = 1\n",
    "\n",
    "cv2.putText(bg, \"SIMPLEX\", (50, 50), cv2.FONT_HERSHEY_SIMPLEX, SCALE, WHITE, THICK)\n",
    "cv2.putText(bg, \"PLAIN\", (50, 150), cv2.FONT_HERSHEY_PLAIN, SCALE, WHITE, THICK)\n",
    "cv2.putText(bg, \"SCRIPT SIMPLEX\", (50, 250), cv2.FONT_HERSHEY_SCRIPT_SIMPLEX, SCALE, WHITE, THICK)\n",
    "cv2.putText(bg, \"TRIPLEX\", (50, 350), cv2.FONT_HERSHEY_TRIPLEX, SCALE, WHITE, THICK)\n",
    "cv2.putText(bg, \"ITALIC, TRIPLEX\", (50, 450), cv2.FONT_HERSHEY_TRIPLEX | cv2.FONT_ITALIC, SCALE, WHITE, THICK)\n",
    "\n",
    "cv2.imshow('text img', bg)\n",
    "cv2.waitKey(0)\n",
    "cv2.destroyAllWindows()"
   ]
  },
  {
   "cell_type": "markdown",
   "id": "62b7d3ed",
   "metadata": {},
   "source": [
    "## 한글 우회 방법 (openCV에서 지원하지 않음)\n",
    "PIL (Python Image Library) 이용"
   ]
  },
  {
   "cell_type": "code",
   "execution_count": 13,
   "id": "864aaba1",
   "metadata": {},
   "outputs": [],
   "source": [
    "import cv2\n",
    "import numpy as np\n",
    "\n",
    "# 한글을 위해서 PIL 이용\n",
    "from PIL import Image, ImageDraw, ImageFont\n",
    "\n",
    "def KoreanText(src, text, pos, font_size, font_color):\n",
    "    img_pil = Image.fromarray(src)\n",
    "    draw = ImageDraw.Draw(img_pil)\n",
    "    font = ImageFont.truetype('fonts/gulim.ttc', font_size)\n",
    "    draw.text(pos, text, font=font, fill=font_color)\n",
    "    return np.array(img_pil)\n",
    "\n",
    "\n",
    "bg = np.zeros((480, 640, 3), dtype = np.uint8)\n",
    "\n",
    "WHITE = (255,255,255)\n",
    "FONT_SIZE = 30 # cv2와 기준이 다름\n",
    "\n",
    "bg = KoreanText(bg, '텍스트 연습입니다', (50, 50), FONT_SIZE, WHITE)\n",
    "\n",
    "cv2.imshow('text img', bg)\n",
    "cv2.waitKey(0)\n",
    "cv2.destroyAllWindows()"
   ]
  }
 ],
 "metadata": {
  "kernelspec": {
   "display_name": "Python 3 (ipykernel)",
   "language": "python",
   "name": "python3"
  },
  "language_info": {
   "codemirror_mode": {
    "name": "ipython",
    "version": 3
   },
   "file_extension": ".py",
   "mimetype": "text/x-python",
   "name": "python",
   "nbconvert_exporter": "python",
   "pygments_lexer": "ipython3",
   "version": "3.11.5"
  }
 },
 "nbformat": 4,
 "nbformat_minor": 5
}
