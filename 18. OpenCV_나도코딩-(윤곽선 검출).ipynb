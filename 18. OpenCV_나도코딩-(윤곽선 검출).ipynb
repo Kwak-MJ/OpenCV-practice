{
 "cells": [
  {
   "cell_type": "markdown",
   "id": "eba4084f",
   "metadata": {},
   "source": [
    "# 18. 이미지 검출 (윤곽선)"
   ]
  },
  {
   "cell_type": "markdown",
   "id": "adf70bc9",
   "metadata": {},
   "source": [
    "### 윤곽선 (Contour): 경계선을 연결한 선\n",
    "1. 정확도를 위해서 binary 이미지 사용\n",
    "1. threshold 혹은 canny edge detection 사전에 처리\n",
    "1. Contour 는 이미지 자체를 수정해버림!"
   ]
  },
  {
   "cell_type": "code",
   "execution_count": 4,
   "id": "83ab6579",
   "metadata": {},
   "outputs": [],
   "source": [
    "import cv2\n",
    "\n",
    "img = cv2.imread(\"poker.jpg\")\n",
    "target_img = img.copy()\n",
    "\n",
    "gray = cv2.cvtColor(img, cv2.COLOR_BGR2GRAY)\n",
    "\n",
    "ret, otsu = cv2.threshold(gray, -1, 255, cv2.THRESH_BINARY | cv2.THRESH_OTSU)\n",
    "\n",
    "contours, hierachy = cv2.findContours(otsu, cv2.RETR_LIST, cv2.CHAIN_APPROX_NONE)\n",
    "\n",
    "cv2.drawContours(target_img, contours, -1, (0, 255, 0), 2)\n",
    "\n",
    "cv2.imshow(\"img\", img)\n",
    "cv2.imshow(\"thresh\", otsu)\n",
    "cv2.imshow(\"contours\", target_img)\n",
    "    \n",
    "cv2.waitKey(0)        \n",
    "cv2.destroyAllWindows()"
   ]
  },
  {
   "cell_type": "markdown",
   "id": "378c23c8",
   "metadata": {},
   "source": [
    "### 윤곽선 찾기 모드\n",
    "1. cv2.RETR_EXTERNAL: 가장 외곽의 윤곽선만 찾음\n",
    "1. cv2.RETR_LIST: 모든 윤곽선 찾음 (계층 정보 없음)\n",
    "1. cv2.RETR_TREE: 모든 윤곽선 찾음 (계층 정보 트리구조 만듬)"
   ]
  },
  {
   "cell_type": "code",
   "execution_count": 6,
   "id": "fe2fee55",
   "metadata": {},
   "outputs": [],
   "source": [
    "import cv2\n",
    "\n",
    "img = cv2.imread(\"poker.jpg\")\n",
    "target_img1 = img.copy()\n",
    "target_img2 = img.copy()\n",
    "\n",
    "gray = cv2.cvtColor(img, cv2.COLOR_BGR2GRAY)\n",
    "\n",
    "ret, otsu = cv2.threshold(gray, -1, 255, cv2.THRESH_BINARY | cv2.THRESH_OTSU)\n",
    "\n",
    "contours1, hierachy = cv2.findContours(otsu, cv2.RETR_LIST, cv2.CHAIN_APPROX_NONE)\n",
    "contours2, hierachy = cv2.findContours(otsu, cv2.RETR_TREE, cv2.CHAIN_APPROX_NONE)\n",
    "\n",
    "cv2.drawContours(target_img1, contours1, -1, (0, 255, 0), 2)\n",
    "cv2.drawContours(target_img2, contours2, -1, (0, 255, 0), 2)\n",
    "\n",
    "# cv2.imshow(\"img\", img)\n",
    "# cv2.imshow(\"thresh\", otsu)\n",
    "cv2.imshow(\"list\", target_img1)\n",
    "cv2.imshow(\"tree\", target_img2)\n",
    "    \n",
    "cv2.waitKey(0)        \n",
    "cv2.destroyAllWindows()"
   ]
  },
  {
   "cell_type": "markdown",
   "id": "278d2f04",
   "metadata": {},
   "source": [
    "### 경계 사각형\n",
    "윤곽선 경계면을 둘러싸는 사각형 (cv2.boundingRect()) -> x,y,width, height 반환"
   ]
  },
  {
   "cell_type": "code",
   "execution_count": 7,
   "id": "03dd2217",
   "metadata": {},
   "outputs": [],
   "source": [
    "import cv2\n",
    "\n",
    "img = cv2.imread(\"poker.jpg\")\n",
    "target_img1 = img.copy()\n",
    "\n",
    "gray = cv2.cvtColor(img, cv2.COLOR_BGR2GRAY)\n",
    "\n",
    "ret, otsu = cv2.threshold(gray, -1, 255, cv2.THRESH_BINARY | cv2.THRESH_OTSU)\n",
    "\n",
    "contours, hierachy = cv2.findContours(otsu, cv2.RETR_LIST, cv2.CHAIN_APPROX_NONE)\n",
    "\n",
    "for cnt in contours:\n",
    "    x, y, width, height = cv2.boundingRect(cnt)\n",
    "    cv2.rectangle(target_img1, (x,y), (x+width, y+height), (0,255,0), 3, cv2.LINE_AA)\n",
    "\n",
    "    # cv2.drawContours(target_img1, contours1, -1, (0, 255, 0), 2)\n",
    "\n",
    "\n",
    "cv2.imshow(\"img\", img)\n",
    "cv2.imshow(\"thresh\", otsu)\n",
    "cv2.imshow(\"list\", target_img1)\n",
    "    \n",
    "cv2.waitKey(0)        \n",
    "cv2.destroyAllWindows()"
   ]
  },
  {
   "cell_type": "markdown",
   "id": "543bc916",
   "metadata": {},
   "source": [
    "### 면적 구하기\n",
    "cv2.contourArea()\n",
    ", 어떤 면적 이상의 경계 사각형 구하기 등에 사용"
   ]
  },
  {
   "cell_type": "code",
   "execution_count": 25,
   "id": "b0aaa397",
   "metadata": {},
   "outputs": [],
   "source": [
    "import cv2\n",
    "\n",
    "img = cv2.imread(\"poker.jpg\")\n",
    "target_img1 = img.copy()\n",
    "\n",
    "gray = cv2.cvtColor(img, cv2.COLOR_BGR2GRAY)\n",
    "\n",
    "ret, otsu = cv2.threshold(gray, -1, 255, cv2.THRESH_BINARY | cv2.THRESH_OTSU)\n",
    "\n",
    "contours, hierachy = cv2.findContours(otsu, cv2.RETR_LIST, cv2.CHAIN_APPROX_NONE)\n",
    "\n",
    "for cnt in contours:\n",
    "    if cv2.contourArea(cnt) > 2000:\n",
    "        x,y,width,height = cv2.boundingRect(cnt)\n",
    "        cv2.rectangle(target_img1, (x,y), (x+width, y+height), (0,255,0), 3, cv2.LINE_AA)\n",
    "\n",
    "    #cv2.rectangle(target_img1, (x,y), (x+width, y+height), (0,255,0), 3, cv2.LINE_AA)\n",
    "    # cv2.drawContours(target_img1, contours1, -1, (0, 255, 0), 2)\n",
    "\n",
    "\n",
    "cv2.imshow(\"img\", img)\n",
    "cv2.imshow(\"list\", target_img1)\n",
    "    \n",
    "cv2.waitKey(0)        \n",
    "cv2.destroyAllWindows()"
   ]
  },
  {
   "cell_type": "markdown",
   "id": "edb1df6b",
   "metadata": {},
   "source": [
    "### 윤곽선 근사치 방법\n",
    "1. cv2.CHAIN_APPROX_NONE -> 윤곽선 모든 좌표 반환\n",
    "2. cv2.CHAIN_APPROX_SIMPLE -> 모든거 X, 꼭짓점 좌표만 반환 (메모리 줄임!)"
   ]
  }
 ],
 "metadata": {
  "kernelspec": {
   "display_name": "Python 3 (ipykernel)",
   "language": "python",
   "name": "python3"
  },
  "language_info": {
   "codemirror_mode": {
    "name": "ipython",
    "version": 3
   },
   "file_extension": ".py",
   "mimetype": "text/x-python",
   "name": "python",
   "nbconvert_exporter": "python",
   "pygments_lexer": "ipython3",
   "version": "3.11.5"
  }
 },
 "nbformat": 4,
 "nbformat_minor": 5
}
