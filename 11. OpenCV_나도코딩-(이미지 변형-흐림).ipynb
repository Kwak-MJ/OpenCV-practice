{
 "cells": [
  {
   "cell_type": "markdown",
   "id": "3781c1ee",
   "metadata": {},
   "source": [
    "# 11. 이미지 변형 (흐림)"
   ]
  },
  {
   "cell_type": "markdown",
   "id": "af7e9404",
   "metadata": {},
   "source": [
    "### 가우시안 블러 cv2.GaussianBlur()"
   ]
  },
  {
   "cell_type": "markdown",
   "id": "f6f03564",
   "metadata": {},
   "source": [
    "커널 사이즈 변화에 따른 흐림"
   ]
  },
  {
   "cell_type": "code",
   "execution_count": 3,
   "id": "1f42d78f",
   "metadata": {},
   "outputs": [],
   "source": [
    "import cv2\n",
    "\n",
    "img = cv2.imread('img.jpg')\n",
    "\n",
    "# 보통 (3,3), (5,5), (7,7)\n",
    "# 이런 커널에 대해서 좋은 성능 보여줌\n",
    "kernel_3 = cv2.GaussianBlur(img, (3,3), 0)\n",
    "kernel_5 = cv2.GaussianBlur(img, (5,5), 0)\n",
    "kernel_7 = cv2.GaussianBlur(img, (7,7), 0)\n",
    "\n",
    "cv2.imshow('k3', kernel_3)\n",
    "cv2.imshow('k5', kernel_5)\n",
    "cv2.imshow('k7', kernel_7)\n",
    "cv2.waitKey(0)\n",
    "cv2.destroyAllWindows()"
   ]
  },
  {
   "cell_type": "markdown",
   "id": "6e920224",
   "metadata": {},
   "source": [
    "표준 편차 변화에 따른 흐림"
   ]
  },
  {
   "cell_type": "code",
   "execution_count": 7,
   "id": "4ffe5a43",
   "metadata": {},
   "outputs": [],
   "source": [
    "import cv2\n",
    "\n",
    "img = cv2.imread('img.jpg')\n",
    "\n",
    "\n",
    "sigma1 = cv2.GaussianBlur(img, (0,0), 1) # sigmaX - 가우시안 커널의 x 방향의 표준편차\n",
    "sigma2 = cv2.GaussianBlur(img, (0,0), 2)\n",
    "sigma3 = cv2.GaussianBlur(img, (0,0), 3)\n",
    "\n",
    "cv2.imshow('k3', sigma1)\n",
    "cv2.imshow('k5', sigma2)\n",
    "cv2.imshow('k7', sigma3)\n",
    "cv2.waitKey(0)\n",
    "cv2.destroyAllWindows()"
   ]
  }
 ],
 "metadata": {
  "kernelspec": {
   "display_name": "Python 3 (ipykernel)",
   "language": "python",
   "name": "python3"
  },
  "language_info": {
   "codemirror_mode": {
    "name": "ipython",
    "version": 3
   },
   "file_extension": ".py",
   "mimetype": "text/x-python",
   "name": "python",
   "nbconvert_exporter": "python",
   "pygments_lexer": "ipython3",
   "version": "3.11.5"
  }
 },
 "nbformat": 4,
 "nbformat_minor": 5
}
