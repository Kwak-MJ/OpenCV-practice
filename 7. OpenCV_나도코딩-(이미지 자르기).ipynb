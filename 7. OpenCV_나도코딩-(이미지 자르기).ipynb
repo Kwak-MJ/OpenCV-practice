{
 "cells": [
  {
   "cell_type": "markdown",
   "id": "ab3290ea",
   "metadata": {},
   "source": [
    "# 7. 이미지 자르기\n",
    "동영상도 마찬가지 과정임"
   ]
  },
  {
   "cell_type": "code",
   "execution_count": 11,
   "id": "a64ba9ac",
   "metadata": {
    "scrolled": true
   },
   "outputs": [],
   "source": [
    "import cv2\n",
    "\n",
    "img = cv2.imread('img.jpg') # (427, 640, 3)\n",
    "\n",
    "crop = img[200:300, 300:500]\n",
    "img[100:200, 400:600] = crop\n",
    "\n",
    "cv2.imshow('img', img)\n",
    "cv2.waitKey(0)\n",
    "cv2.destroyAllWindows()\n"
   ]
  },
  {
   "cell_type": "markdown",
   "id": "aef3aa45",
   "metadata": {},
   "source": [
    "img[세로범위, 가로범위, 채널]"
   ]
  }
 ],
 "metadata": {
  "kernelspec": {
   "display_name": "Python 3 (ipykernel)",
   "language": "python",
   "name": "python3"
  },
  "language_info": {
   "codemirror_mode": {
    "name": "ipython",
    "version": 3
   },
   "file_extension": ".py",
   "mimetype": "text/x-python",
   "name": "python",
   "nbconvert_exporter": "python",
   "pygments_lexer": "ipython3",
   "version": "3.11.5"
  }
 },
 "nbformat": 4,
 "nbformat_minor": 5
}
